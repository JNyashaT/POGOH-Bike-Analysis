{
 "cells": [
  {
   "cell_type": "code",
   "execution_count": 312,
   "id": "initial_id",
   "metadata": {
    "collapsed": true,
    "ExecuteTime": {
     "end_time": "2024-04-14T17:45:38.102945Z",
     "start_time": "2024-04-14T17:45:38.096141Z"
    }
   },
   "outputs": [],
   "source": [
    "import pandas as pd"
   ]
  },
  {
   "cell_type": "code",
   "outputs": [
    {
     "name": "stderr",
     "output_type": "stream",
     "text": [
      "C:\\Users\\jahza\\AppData\\Local\\Temp\\ipykernel_15724\\3490224847.py:1: DtypeWarning: Columns (3,8,17,20,21,25,29,30,42) have mixed types. Specify dtype option on import or set low_memory=False.\n",
      "  assets = pd.read_csv(\"Allegheny_County_Assets.csv\")\n"
     ]
    }
   ],
   "source": [
    "assets = pd.read_csv(\"Allegheny_County_Assets.csv\")\n",
    "supermarkets = pd.read_csv(\"supermarkets.csv\")\n",
    "terminals = pd.read_csv(\"Terminal_Locations.csv\")"
   ],
   "metadata": {
    "collapsed": false,
    "ExecuteTime": {
     "end_time": "2024-04-14T17:45:38.762717Z",
     "start_time": "2024-04-14T17:45:38.574673Z"
    }
   },
   "id": "8a8dd40780c12c6b",
   "execution_count": 313
  },
  {
   "cell_type": "code",
   "outputs": [
    {
     "data": {
      "text/plain": "            _id                                               name  \\\n0      35247907           TARENTUM SENIOR HOUSING aka Daltons Edge   \n1      35247908                                   SWISSVALE TOWERS   \n2      35247909                                   SWEETBRIAR PLACE   \n3      35247910                                  SUSQUEHANNA HOMES   \n4      35247911                                      STO-ROX PLAZA   \n...         ...                                                ...   \n32933  35280840        UPMC Family Care Connection - Lawrenceville   \n32934  35280841  West Mifflin Food Bank @ Walnut Grove Christia...   \n32935  35280842                                 Welcome Little One   \n32936  35280843                         West Allegheny Food Pantry   \n32937  35280844                    Urban League Greater Pittsburgh   \n\n               asset_type tags  location_id        street_address  unit  \\\n0      affordable_housing  NaN       2282.0           700 2nd Ave   NaN   \n1      affordable_housing  NaN       2247.0  1826 Monongahela Ave   NaN   \n2      affordable_housing  NaN       2246.0     211 Sweetbriar St   NaN   \n3      affordable_housing  NaN       2245.0     7235 Tioga Street   NaN   \n4      affordable_housing  NaN       2244.0     731 Chartiers Ave   NaN   \n...                   ...  ...          ...                   ...   ...   \n32933          food_banks  NaN      86141.0    5235 Butler Street   NaN   \n32934          food_banks  NaN      84639.0         44 Adams Road   NaN   \n32935          food_banks  NaN      86142.0   239 4th Ave STE 420   NaN   \n32936          food_banks  NaN      84657.0    105 Allegheny Road   NaN   \n32937          food_banks  NaN      84638.0    101 Hazlett Street   NaN   \n\n       unit_type municipality          city  ... localizability services  \\\n0            NaN          NaN      Tarentum  ...            FIX      NaN   \n1            NaN          NaN    Pittsburgh  ...            FIX      NaN   \n2            NaN          NaN    Pittsburgh  ...            FIX      NaN   \n3            NaN          NaN    Pittsburgh  ...            FIX      NaN   \n4            NaN          NaN    Pittsburgh  ...            FIX      NaN   \n...          ...          ...           ...  ...            ...      ...   \n32933        NaN          NaN           NaN  ...            FIX      NaN   \n32934        NaN          NaN  West Mifflin  ...            FIX      NaN   \n32935        NaN          NaN           NaN  ...            FIX      NaN   \n32936        NaN          NaN      Imperial  ...            FIX      NaN   \n32937        NaN          NaN    Pittsburgh  ...            FIX      NaN   \n\n       hard_to_count_population  \\\n0                           NaN   \n1                           NaN   \n2                           NaN   \n3                           NaN   \n4                           NaN   \n...                         ...   \n32933                       NaN   \n32934                       NaN   \n32935                       NaN   \n32936                       NaN   \n32937                       NaN   \n\n                                       data_source_names  \\\n0      Pennsylvania Housing Finance Agency: Allegheny...   \n1      Pennsylvania Housing Finance Agency: Allegheny...   \n2      Pennsylvania Housing Finance Agency: Allegheny...   \n3      Pennsylvania Housing Finance Agency: Allegheny...   \n4      Pennsylvania Housing Finance Agency: Allegheny...   \n...                                                  ...   \n32933  WPRDC Datset: BigBurgh Social Service Listings...   \n32934  WPRDC Dataset: Allegheny County Restaurant/Foo...   \n32935  WPRDC Datset: BigBurgh Social Service Listings...   \n32936  WPRDC Dataset: Allegheny County Restaurant/Foo...   \n32937  WPRDC Dataset: Allegheny County Restaurant/Foo...   \n\n                                        data_source_urls  \\\n0      https://www.phfa.org/forms/multifamily_invento...   \n1      https://www.phfa.org/forms/multifamily_invento...   \n2      https://www.phfa.org/forms/multifamily_invento...   \n3      https://www.phfa.org/forms/multifamily_invento...   \n4      https://www.phfa.org/forms/multifamily_invento...   \n...                                                  ...   \n32933  https://data.wprdc.org/dataset/bigburgh-social...   \n32934  https://data.wprdc.org/dataset/allegheny-count...   \n32935  https://data.wprdc.org/dataset/bigburgh-social...   \n32936  https://data.wprdc.org/dataset/allegheny-count...   \n32937  https://data.wprdc.org/dataset/allegheny-count...   \n\n                                 organization_name  organization_phone  \\\n0                                              NaN                 NaN   \n1                                              NaN                 NaN   \n2                                              NaN                 NaN   \n3                                              NaN                 NaN   \n4                                              NaN                 NaN   \n...                                            ...                 ...   \n32933  UPMC Family Care Connection - Lawrenceville                 NaN   \n32934                                          NaN                 NaN   \n32935                           Welcome Little One                 NaN   \n32936                                          NaN                 NaN   \n32937                                          NaN                 NaN   \n\n      organization_email                                          etl_notes  \\\n0                    NaN                                                NaN   \n1                    NaN                                                NaN   \n2                    NaN                                                NaN   \n3                    NaN                                                NaN   \n4                    NaN                                                NaN   \n...                  ...                                                ...   \n32933                NaN  Narrative: Call first.  Mostly for clients of ...   \n32934                NaN                                                NaN   \n32935                NaN  Narrative: Diapers, baby clothes, baby food pr...   \n32936                NaN                                                NaN   \n32937                NaN                                                NaN   \n\n                                    geocoding_properties  \n0                                                    NaN  \n1                                                    NaN  \n2                                                    NaN  \n3                                                    NaN  \n4                                                    NaN  \n...                                                  ...  \n32933                                                NaN  \n32934  {'accuracy': 1, 'accuracy_type': 'rooftop', 'a...  \n32935                                                NaN  \n32936  {'confidence': 1, 'accuracy': 'point', 'match_...  \n32937                                                NaN  \n\n[32938 rows x 45 columns]",
      "text/html": "<div>\n<style scoped>\n    .dataframe tbody tr th:only-of-type {\n        vertical-align: middle;\n    }\n\n    .dataframe tbody tr th {\n        vertical-align: top;\n    }\n\n    .dataframe thead th {\n        text-align: right;\n    }\n</style>\n<table border=\"1\" class=\"dataframe\">\n  <thead>\n    <tr style=\"text-align: right;\">\n      <th></th>\n      <th>_id</th>\n      <th>name</th>\n      <th>asset_type</th>\n      <th>tags</th>\n      <th>location_id</th>\n      <th>street_address</th>\n      <th>unit</th>\n      <th>unit_type</th>\n      <th>municipality</th>\n      <th>city</th>\n      <th>...</th>\n      <th>localizability</th>\n      <th>services</th>\n      <th>hard_to_count_population</th>\n      <th>data_source_names</th>\n      <th>data_source_urls</th>\n      <th>organization_name</th>\n      <th>organization_phone</th>\n      <th>organization_email</th>\n      <th>etl_notes</th>\n      <th>geocoding_properties</th>\n    </tr>\n  </thead>\n  <tbody>\n    <tr>\n      <th>0</th>\n      <td>35247907</td>\n      <td>TARENTUM SENIOR HOUSING aka Daltons Edge</td>\n      <td>affordable_housing</td>\n      <td>NaN</td>\n      <td>2282.0</td>\n      <td>700 2nd Ave</td>\n      <td>NaN</td>\n      <td>NaN</td>\n      <td>NaN</td>\n      <td>Tarentum</td>\n      <td>...</td>\n      <td>FIX</td>\n      <td>NaN</td>\n      <td>NaN</td>\n      <td>Pennsylvania Housing Finance Agency: Allegheny...</td>\n      <td>https://www.phfa.org/forms/multifamily_invento...</td>\n      <td>NaN</td>\n      <td>NaN</td>\n      <td>NaN</td>\n      <td>NaN</td>\n      <td>NaN</td>\n    </tr>\n    <tr>\n      <th>1</th>\n      <td>35247908</td>\n      <td>SWISSVALE TOWERS</td>\n      <td>affordable_housing</td>\n      <td>NaN</td>\n      <td>2247.0</td>\n      <td>1826 Monongahela Ave</td>\n      <td>NaN</td>\n      <td>NaN</td>\n      <td>NaN</td>\n      <td>Pittsburgh</td>\n      <td>...</td>\n      <td>FIX</td>\n      <td>NaN</td>\n      <td>NaN</td>\n      <td>Pennsylvania Housing Finance Agency: Allegheny...</td>\n      <td>https://www.phfa.org/forms/multifamily_invento...</td>\n      <td>NaN</td>\n      <td>NaN</td>\n      <td>NaN</td>\n      <td>NaN</td>\n      <td>NaN</td>\n    </tr>\n    <tr>\n      <th>2</th>\n      <td>35247909</td>\n      <td>SWEETBRIAR PLACE</td>\n      <td>affordable_housing</td>\n      <td>NaN</td>\n      <td>2246.0</td>\n      <td>211 Sweetbriar St</td>\n      <td>NaN</td>\n      <td>NaN</td>\n      <td>NaN</td>\n      <td>Pittsburgh</td>\n      <td>...</td>\n      <td>FIX</td>\n      <td>NaN</td>\n      <td>NaN</td>\n      <td>Pennsylvania Housing Finance Agency: Allegheny...</td>\n      <td>https://www.phfa.org/forms/multifamily_invento...</td>\n      <td>NaN</td>\n      <td>NaN</td>\n      <td>NaN</td>\n      <td>NaN</td>\n      <td>NaN</td>\n    </tr>\n    <tr>\n      <th>3</th>\n      <td>35247910</td>\n      <td>SUSQUEHANNA HOMES</td>\n      <td>affordable_housing</td>\n      <td>NaN</td>\n      <td>2245.0</td>\n      <td>7235 Tioga Street</td>\n      <td>NaN</td>\n      <td>NaN</td>\n      <td>NaN</td>\n      <td>Pittsburgh</td>\n      <td>...</td>\n      <td>FIX</td>\n      <td>NaN</td>\n      <td>NaN</td>\n      <td>Pennsylvania Housing Finance Agency: Allegheny...</td>\n      <td>https://www.phfa.org/forms/multifamily_invento...</td>\n      <td>NaN</td>\n      <td>NaN</td>\n      <td>NaN</td>\n      <td>NaN</td>\n      <td>NaN</td>\n    </tr>\n    <tr>\n      <th>4</th>\n      <td>35247911</td>\n      <td>STO-ROX PLAZA</td>\n      <td>affordable_housing</td>\n      <td>NaN</td>\n      <td>2244.0</td>\n      <td>731 Chartiers Ave</td>\n      <td>NaN</td>\n      <td>NaN</td>\n      <td>NaN</td>\n      <td>Pittsburgh</td>\n      <td>...</td>\n      <td>FIX</td>\n      <td>NaN</td>\n      <td>NaN</td>\n      <td>Pennsylvania Housing Finance Agency: Allegheny...</td>\n      <td>https://www.phfa.org/forms/multifamily_invento...</td>\n      <td>NaN</td>\n      <td>NaN</td>\n      <td>NaN</td>\n      <td>NaN</td>\n      <td>NaN</td>\n    </tr>\n    <tr>\n      <th>...</th>\n      <td>...</td>\n      <td>...</td>\n      <td>...</td>\n      <td>...</td>\n      <td>...</td>\n      <td>...</td>\n      <td>...</td>\n      <td>...</td>\n      <td>...</td>\n      <td>...</td>\n      <td>...</td>\n      <td>...</td>\n      <td>...</td>\n      <td>...</td>\n      <td>...</td>\n      <td>...</td>\n      <td>...</td>\n      <td>...</td>\n      <td>...</td>\n      <td>...</td>\n      <td>...</td>\n    </tr>\n    <tr>\n      <th>32933</th>\n      <td>35280840</td>\n      <td>UPMC Family Care Connection - Lawrenceville</td>\n      <td>food_banks</td>\n      <td>NaN</td>\n      <td>86141.0</td>\n      <td>5235 Butler Street</td>\n      <td>NaN</td>\n      <td>NaN</td>\n      <td>NaN</td>\n      <td>NaN</td>\n      <td>...</td>\n      <td>FIX</td>\n      <td>NaN</td>\n      <td>NaN</td>\n      <td>WPRDC Datset: BigBurgh Social Service Listings...</td>\n      <td>https://data.wprdc.org/dataset/bigburgh-social...</td>\n      <td>UPMC Family Care Connection - Lawrenceville</td>\n      <td>NaN</td>\n      <td>NaN</td>\n      <td>Narrative: Call first.  Mostly for clients of ...</td>\n      <td>NaN</td>\n    </tr>\n    <tr>\n      <th>32934</th>\n      <td>35280841</td>\n      <td>West Mifflin Food Bank @ Walnut Grove Christia...</td>\n      <td>food_banks</td>\n      <td>NaN</td>\n      <td>84639.0</td>\n      <td>44 Adams Road</td>\n      <td>NaN</td>\n      <td>NaN</td>\n      <td>NaN</td>\n      <td>West Mifflin</td>\n      <td>...</td>\n      <td>FIX</td>\n      <td>NaN</td>\n      <td>NaN</td>\n      <td>WPRDC Dataset: Allegheny County Restaurant/Foo...</td>\n      <td>https://data.wprdc.org/dataset/allegheny-count...</td>\n      <td>NaN</td>\n      <td>NaN</td>\n      <td>NaN</td>\n      <td>NaN</td>\n      <td>{'accuracy': 1, 'accuracy_type': 'rooftop', 'a...</td>\n    </tr>\n    <tr>\n      <th>32935</th>\n      <td>35280842</td>\n      <td>Welcome Little One</td>\n      <td>food_banks</td>\n      <td>NaN</td>\n      <td>86142.0</td>\n      <td>239 4th Ave STE 420</td>\n      <td>NaN</td>\n      <td>NaN</td>\n      <td>NaN</td>\n      <td>NaN</td>\n      <td>...</td>\n      <td>FIX</td>\n      <td>NaN</td>\n      <td>NaN</td>\n      <td>WPRDC Datset: BigBurgh Social Service Listings...</td>\n      <td>https://data.wprdc.org/dataset/bigburgh-social...</td>\n      <td>Welcome Little One</td>\n      <td>NaN</td>\n      <td>NaN</td>\n      <td>Narrative: Diapers, baby clothes, baby food pr...</td>\n      <td>NaN</td>\n    </tr>\n    <tr>\n      <th>32936</th>\n      <td>35280843</td>\n      <td>West Allegheny Food Pantry</td>\n      <td>food_banks</td>\n      <td>NaN</td>\n      <td>84657.0</td>\n      <td>105 Allegheny Road</td>\n      <td>NaN</td>\n      <td>NaN</td>\n      <td>NaN</td>\n      <td>Imperial</td>\n      <td>...</td>\n      <td>FIX</td>\n      <td>NaN</td>\n      <td>NaN</td>\n      <td>WPRDC Dataset: Allegheny County Restaurant/Foo...</td>\n      <td>https://data.wprdc.org/dataset/allegheny-count...</td>\n      <td>NaN</td>\n      <td>NaN</td>\n      <td>NaN</td>\n      <td>NaN</td>\n      <td>{'confidence': 1, 'accuracy': 'point', 'match_...</td>\n    </tr>\n    <tr>\n      <th>32937</th>\n      <td>35280844</td>\n      <td>Urban League Greater Pittsburgh</td>\n      <td>food_banks</td>\n      <td>NaN</td>\n      <td>84638.0</td>\n      <td>101 Hazlett Street</td>\n      <td>NaN</td>\n      <td>NaN</td>\n      <td>NaN</td>\n      <td>Pittsburgh</td>\n      <td>...</td>\n      <td>FIX</td>\n      <td>NaN</td>\n      <td>NaN</td>\n      <td>WPRDC Dataset: Allegheny County Restaurant/Foo...</td>\n      <td>https://data.wprdc.org/dataset/allegheny-count...</td>\n      <td>NaN</td>\n      <td>NaN</td>\n      <td>NaN</td>\n      <td>NaN</td>\n      <td>NaN</td>\n    </tr>\n  </tbody>\n</table>\n<p>32938 rows × 45 columns</p>\n</div>"
     },
     "execution_count": 314,
     "metadata": {},
     "output_type": "execute_result"
    }
   ],
   "source": [
    "\n",
    "assets"
   ],
   "metadata": {
    "collapsed": false,
    "ExecuteTime": {
     "end_time": "2024-04-14T17:45:38.804726Z",
     "start_time": "2024-04-14T17:45:38.764982Z"
    }
   },
   "id": "67356ae61f9be61",
   "execution_count": 314
  },
  {
   "cell_type": "code",
   "outputs": [
    {
     "data": {
      "text/plain": "_id                               0\nname                              0\nasset_type                        0\ntags                          30962\nlocation_id                      42\nstreet_address                 7688\nunit                          32938\nunit_type                     32938\nmunicipality                  32937\ncity                           7749\nstate                          8655\nzip_code                       8530\nlatitude                        180\nlongitude                       180\nparcel_id                     30529\nresidence                     32253\niffy_geocoding                32938\navailable_transportation      32937\nparent_location_id            32938\nparent_location               32938\nurl                           31379\nemail                         31413\nphone                         29648\nhours_of_operation            32762\nholiday_hours_of_operation    32938\nperiodicity                   32651\ncapacity                      28708\nwifi_network                  32938\ninternet_access               32938\ncomputers_available           32541\naccessibility                 32482\nopen_to_public                32938\nchild_friendly                32067\nsensitive                     30412\ndo_not_display                32741\nlocalizability                    0\nservices                      32938\nhard_to_count_population      32938\ndata_source_names                41\ndata_source_urls                 41\norganization_name             30724\norganization_phone            32930\norganization_email            32378\netl_notes                     17206\ngeocoding_properties          26114\ndtype: int64"
     },
     "execution_count": 315,
     "metadata": {},
     "output_type": "execute_result"
    }
   ],
   "source": [
    "assets.isna().sum()\n"
   ],
   "metadata": {
    "collapsed": false,
    "ExecuteTime": {
     "end_time": "2024-04-14T17:45:38.831569Z",
     "start_time": "2024-04-14T17:45:38.805916Z"
    }
   },
   "id": "9ca88c6f7da40636",
   "execution_count": 315
  },
  {
   "cell_type": "raw",
   "source": [
    "A lot of the data are missing values, or not necessary for the sake of predicting ideal locations in Wilkinsburg. These values will be dropped from the dataset."
   ],
   "metadata": {
    "collapsed": false
   },
   "id": "b0e265e12f57fa11"
  },
  {
   "cell_type": "code",
   "outputs": [],
   "source": [
    "assets.drop([\"tags\", \"unit\", \"unit_type\", \"municipality\", \"state\", \"zip_code\", \"parcel_id\", \"residence\", \"iffy_geocoding\", \"available_transportation\", \"parent_location\", \"parent_location_id\", \"url\", \"email\", \"phone\", \"hours_of_operation\", \"holiday_hours_of_operation\", \"periodicity\", \"capacity\", \"wifi_network\", \"internet_access\", \"computers_available\", \"accessibility\", \"open_to_public\", \"child_friendly\", \"sensitive\", \"do_not_display\", \"services\", \"hard_to_count_population\", \"organization_name\", \"organization_email\", \"organization_phone\", \"etl_notes\"], axis = 1, inplace = True)"
   ],
   "metadata": {
    "collapsed": false,
    "ExecuteTime": {
     "end_time": "2024-04-14T17:45:38.844476Z",
     "start_time": "2024-04-14T17:45:38.833942Z"
    }
   },
   "id": "317555d46c4c66ba",
   "execution_count": 316
  },
  {
   "cell_type": "code",
   "outputs": [
    {
     "data": {
      "text/plain": "_id                         0\nname                        0\nasset_type                  0\nlocation_id                42\nstreet_address           7688\ncity                     7749\nlatitude                  180\nlongitude                 180\nlocalizability              0\ndata_source_names          41\ndata_source_urls           41\ngeocoding_properties    26114\ndtype: int64"
     },
     "execution_count": 317,
     "metadata": {},
     "output_type": "execute_result"
    }
   ],
   "source": [
    "assets.isna().sum()"
   ],
   "metadata": {
    "collapsed": false,
    "ExecuteTime": {
     "end_time": "2024-04-14T17:45:38.862485Z",
     "start_time": "2024-04-14T17:45:38.846581Z"
    }
   },
   "id": "b17fc180ab03b508",
   "execution_count": 317
  },
  {
   "cell_type": "code",
   "outputs": [
    {
     "data": {
      "text/plain": "0        FIX\n1        FIX\n2        FIX\n3        FIX\n4        FIX\n        ... \n32933    FIX\n32934    FIX\n32935    FIX\n32936    FIX\n32937    FIX\nName: localizability, Length: 32938, dtype: object"
     },
     "execution_count": 318,
     "metadata": {},
     "output_type": "execute_result"
    }
   ],
   "source": [
    "assets[\"localizability\"]"
   ],
   "metadata": {
    "collapsed": false,
    "ExecuteTime": {
     "end_time": "2024-04-14T17:45:38.872297Z",
     "start_time": "2024-04-14T17:45:38.864730Z"
    }
   },
   "id": "7f6b934f93e19c6f",
   "execution_count": 318
  },
  {
   "cell_type": "code",
   "outputs": [
    {
     "data": {
      "text/plain": "0        Pennsylvania Housing Finance Agency: Allegheny...\n1        Pennsylvania Housing Finance Agency: Allegheny...\n2        Pennsylvania Housing Finance Agency: Allegheny...\n3        Pennsylvania Housing Finance Agency: Allegheny...\n4        Pennsylvania Housing Finance Agency: Allegheny...\n                               ...                        \n32933    WPRDC Datset: BigBurgh Social Service Listings...\n32934    WPRDC Dataset: Allegheny County Restaurant/Foo...\n32935    WPRDC Datset: BigBurgh Social Service Listings...\n32936    WPRDC Dataset: Allegheny County Restaurant/Foo...\n32937    WPRDC Dataset: Allegheny County Restaurant/Foo...\nName: data_source_names, Length: 32938, dtype: object"
     },
     "execution_count": 319,
     "metadata": {},
     "output_type": "execute_result"
    }
   ],
   "source": [
    "assets[\"data_source_names\"]"
   ],
   "metadata": {
    "collapsed": false,
    "ExecuteTime": {
     "end_time": "2024-04-14T17:45:39.056143Z",
     "start_time": "2024-04-14T17:45:39.045453Z"
    }
   },
   "id": "e503be6d8cfca81e",
   "execution_count": 319
  },
  {
   "cell_type": "code",
   "outputs": [
    {
     "data": {
      "text/plain": "0                 700 2nd Ave\n1        1826 Monongahela Ave\n2           211 Sweetbriar St\n3           7235 Tioga Street\n4           731 Chartiers Ave\n                 ...         \n32933      5235 Butler Street\n32934           44 Adams Road\n32935     239 4th Ave STE 420\n32936      105 Allegheny Road\n32937      101 Hazlett Street\nName: street_address, Length: 32938, dtype: object"
     },
     "execution_count": 320,
     "metadata": {},
     "output_type": "execute_result"
    }
   ],
   "source": [
    "assets[\"street_address\"]"
   ],
   "metadata": {
    "collapsed": false,
    "ExecuteTime": {
     "end_time": "2024-04-14T17:45:39.277078Z",
     "start_time": "2024-04-14T17:45:39.269297Z"
    }
   },
   "id": "1f7898a9ec19349b",
   "execution_count": 320
  },
  {
   "cell_type": "code",
   "outputs": [
    {
     "data": {
      "text/plain": "             name\ncity             \nADAMSBURG       1\nAKRON           1\nALIQUIPPA       3\nALLEGHENY       1\nALLENTOWN      10\n...           ...\nYORK           10\nYOUNGSVILLE     1\nYork            2\nZELIENOPLE      3\npittsburgh      2\n\n[890 rows x 1 columns]",
      "text/html": "<div>\n<style scoped>\n    .dataframe tbody tr th:only-of-type {\n        vertical-align: middle;\n    }\n\n    .dataframe tbody tr th {\n        vertical-align: top;\n    }\n\n    .dataframe thead th {\n        text-align: right;\n    }\n</style>\n<table border=\"1\" class=\"dataframe\">\n  <thead>\n    <tr style=\"text-align: right;\">\n      <th></th>\n      <th>name</th>\n    </tr>\n    <tr>\n      <th>city</th>\n      <th></th>\n    </tr>\n  </thead>\n  <tbody>\n    <tr>\n      <th>ADAMSBURG</th>\n      <td>1</td>\n    </tr>\n    <tr>\n      <th>AKRON</th>\n      <td>1</td>\n    </tr>\n    <tr>\n      <th>ALIQUIPPA</th>\n      <td>3</td>\n    </tr>\n    <tr>\n      <th>ALLEGHENY</th>\n      <td>1</td>\n    </tr>\n    <tr>\n      <th>ALLENTOWN</th>\n      <td>10</td>\n    </tr>\n    <tr>\n      <th>...</th>\n      <td>...</td>\n    </tr>\n    <tr>\n      <th>YORK</th>\n      <td>10</td>\n    </tr>\n    <tr>\n      <th>YOUNGSVILLE</th>\n      <td>1</td>\n    </tr>\n    <tr>\n      <th>York</th>\n      <td>2</td>\n    </tr>\n    <tr>\n      <th>ZELIENOPLE</th>\n      <td>3</td>\n    </tr>\n    <tr>\n      <th>pittsburgh</th>\n      <td>2</td>\n    </tr>\n  </tbody>\n</table>\n<p>890 rows × 1 columns</p>\n</div>"
     },
     "execution_count": 321,
     "metadata": {},
     "output_type": "execute_result"
    }
   ],
   "source": [
    "assets.groupby([\"city\"]).agg({\"name\":\"count\"})"
   ],
   "metadata": {
    "collapsed": false,
    "ExecuteTime": {
     "end_time": "2024-04-14T17:45:39.494554Z",
     "start_time": "2024-04-14T17:45:39.481420Z"
    }
   },
   "id": "787123b7bacb726f",
   "execution_count": 321
  },
  {
   "cell_type": "markdown",
   "source": [],
   "metadata": {
    "collapsed": false
   },
   "id": "330d584ce9181cfd"
  },
  {
   "cell_type": "markdown",
   "source": [
    "Even though one entry is spelled incorrectly, there are 24 assets that are located in Wilkinsburg. However, there may be overlap in some locations that are not directly listed as locations within Wilkinsburg, as it is a borough in Pittsburgh."
   ],
   "metadata": {
    "collapsed": false
   },
   "id": "c14b22817ea60678"
  },
  {
   "cell_type": "code",
   "outputs": [
    {
     "data": {
      "text/plain": "                                                    name\nstreet_address                                          \n#3 FLORA DRIVE                                         1\n& PHILIP PELUSI, 1814 MURRAY AVE                       1\n(LOCATED ON 2ND AND 3RD FLOOR), 5115 CENTRE AVE...     1\n0 5TH AVE                                              1\n0 CONCORD RD                                           1\n...                                                  ...\nYMCA BUILDING MEMORIAL FIELD                           1\nYard Way                                               2\nYost at Ardmore Boulevard, Suite 217                   1\nc/o Bethel United Presbyterian                         1\nc/o The Rev. Paul Johnston                             1\n\n[19603 rows x 1 columns]",
      "text/html": "<div>\n<style scoped>\n    .dataframe tbody tr th:only-of-type {\n        vertical-align: middle;\n    }\n\n    .dataframe tbody tr th {\n        vertical-align: top;\n    }\n\n    .dataframe thead th {\n        text-align: right;\n    }\n</style>\n<table border=\"1\" class=\"dataframe\">\n  <thead>\n    <tr style=\"text-align: right;\">\n      <th></th>\n      <th>name</th>\n    </tr>\n    <tr>\n      <th>street_address</th>\n      <th></th>\n    </tr>\n  </thead>\n  <tbody>\n    <tr>\n      <th>#3 FLORA DRIVE</th>\n      <td>1</td>\n    </tr>\n    <tr>\n      <th>&amp; PHILIP PELUSI, 1814 MURRAY AVE</th>\n      <td>1</td>\n    </tr>\n    <tr>\n      <th>(LOCATED ON 2ND AND 3RD FLOOR), 5115 CENTRE AVE ROOM A210.5</th>\n      <td>1</td>\n    </tr>\n    <tr>\n      <th>0 5TH AVE</th>\n      <td>1</td>\n    </tr>\n    <tr>\n      <th>0 CONCORD RD</th>\n      <td>1</td>\n    </tr>\n    <tr>\n      <th>...</th>\n      <td>...</td>\n    </tr>\n    <tr>\n      <th>YMCA BUILDING MEMORIAL FIELD</th>\n      <td>1</td>\n    </tr>\n    <tr>\n      <th>Yard Way</th>\n      <td>2</td>\n    </tr>\n    <tr>\n      <th>Yost at Ardmore Boulevard, Suite 217</th>\n      <td>1</td>\n    </tr>\n    <tr>\n      <th>c/o Bethel United Presbyterian</th>\n      <td>1</td>\n    </tr>\n    <tr>\n      <th>c/o The Rev. Paul Johnston</th>\n      <td>1</td>\n    </tr>\n  </tbody>\n</table>\n<p>19603 rows × 1 columns</p>\n</div>"
     },
     "execution_count": 322,
     "metadata": {},
     "output_type": "execute_result"
    }
   ],
   "source": [
    "assets.groupby([\"street_address\"]).agg({\"name\":\"count\"})\n"
   ],
   "metadata": {
    "collapsed": false,
    "ExecuteTime": {
     "end_time": "2024-04-14T17:45:40.029698Z",
     "start_time": "2024-04-14T17:45:40.005194Z"
    }
   },
   "id": "2eebc04e595aba42",
   "execution_count": 322
  },
  {
   "cell_type": "code",
   "outputs": [],
   "source": [
    "assets = assets[assets[\"latitude\"].notna()]\n",
    "assets = assets[assets[\"longitude\"].notna()]"
   ],
   "metadata": {
    "collapsed": false,
    "ExecuteTime": {
     "end_time": "2024-04-14T17:45:40.216221Z",
     "start_time": "2024-04-14T17:45:40.205069Z"
    }
   },
   "id": "54041a1acb78b9ec",
   "execution_count": 323
  },
  {
   "cell_type": "code",
   "outputs": [],
   "source": [
    "assets.drop([\"localizability\", \"data_source_names\", \"data_source_urls\", \"geocoding_properties\"], axis = 1, inplace = True)"
   ],
   "metadata": {
    "collapsed": false,
    "ExecuteTime": {
     "end_time": "2024-04-14T17:45:40.393132Z",
     "start_time": "2024-04-14T17:45:40.385296Z"
    }
   },
   "id": "442e150b0a6e9c6",
   "execution_count": 324
  },
  {
   "cell_type": "code",
   "outputs": [
    {
     "data": {
      "text/plain": "            _id                                               name  \\\n0      35247907           TARENTUM SENIOR HOUSING aka Daltons Edge   \n1      35247908                                   SWISSVALE TOWERS   \n2      35247909                                   SWEETBRIAR PLACE   \n3      35247910                                  SUSQUEHANNA HOMES   \n4      35247911                                      STO-ROX PLAZA   \n...         ...                                                ...   \n32933  35280840        UPMC Family Care Connection - Lawrenceville   \n32934  35280841  West Mifflin Food Bank @ Walnut Grove Christia...   \n32935  35280842                                 Welcome Little One   \n32936  35280843                         West Allegheny Food Pantry   \n32937  35280844                    Urban League Greater Pittsburgh   \n\n               asset_type  location_id        street_address          city  \\\n0      affordable_housing       2282.0           700 2nd Ave      Tarentum   \n1      affordable_housing       2247.0  1826 Monongahela Ave    Pittsburgh   \n2      affordable_housing       2246.0     211 Sweetbriar St    Pittsburgh   \n3      affordable_housing       2245.0     7235 Tioga Street    Pittsburgh   \n4      affordable_housing       2244.0     731 Chartiers Ave    Pittsburgh   \n...                   ...          ...                   ...           ...   \n32933          food_banks      86141.0    5235 Butler Street           NaN   \n32934          food_banks      84639.0         44 Adams Road  West Mifflin   \n32935          food_banks      86142.0   239 4th Ave STE 420           NaN   \n32936          food_banks      84657.0    105 Allegheny Road      Imperial   \n32937          food_banks      84638.0    101 Hazlett Street    Pittsburgh   \n\n        latitude  longitude  \n0      40.603461 -79.745422  \n1      40.422258 -79.890644  \n2      40.437915 -80.021735  \n3      40.453754 -79.896327  \n4      40.441914 -80.038494  \n...          ...        ...  \n32933  40.481165 -79.954010  \n32934  40.355117 -79.908657  \n32935  40.439559 -80.001769  \n32936  40.443835 -80.240623  \n32937  40.477581 -80.002360  \n\n[32758 rows x 8 columns]",
      "text/html": "<div>\n<style scoped>\n    .dataframe tbody tr th:only-of-type {\n        vertical-align: middle;\n    }\n\n    .dataframe tbody tr th {\n        vertical-align: top;\n    }\n\n    .dataframe thead th {\n        text-align: right;\n    }\n</style>\n<table border=\"1\" class=\"dataframe\">\n  <thead>\n    <tr style=\"text-align: right;\">\n      <th></th>\n      <th>_id</th>\n      <th>name</th>\n      <th>asset_type</th>\n      <th>location_id</th>\n      <th>street_address</th>\n      <th>city</th>\n      <th>latitude</th>\n      <th>longitude</th>\n    </tr>\n  </thead>\n  <tbody>\n    <tr>\n      <th>0</th>\n      <td>35247907</td>\n      <td>TARENTUM SENIOR HOUSING aka Daltons Edge</td>\n      <td>affordable_housing</td>\n      <td>2282.0</td>\n      <td>700 2nd Ave</td>\n      <td>Tarentum</td>\n      <td>40.603461</td>\n      <td>-79.745422</td>\n    </tr>\n    <tr>\n      <th>1</th>\n      <td>35247908</td>\n      <td>SWISSVALE TOWERS</td>\n      <td>affordable_housing</td>\n      <td>2247.0</td>\n      <td>1826 Monongahela Ave</td>\n      <td>Pittsburgh</td>\n      <td>40.422258</td>\n      <td>-79.890644</td>\n    </tr>\n    <tr>\n      <th>2</th>\n      <td>35247909</td>\n      <td>SWEETBRIAR PLACE</td>\n      <td>affordable_housing</td>\n      <td>2246.0</td>\n      <td>211 Sweetbriar St</td>\n      <td>Pittsburgh</td>\n      <td>40.437915</td>\n      <td>-80.021735</td>\n    </tr>\n    <tr>\n      <th>3</th>\n      <td>35247910</td>\n      <td>SUSQUEHANNA HOMES</td>\n      <td>affordable_housing</td>\n      <td>2245.0</td>\n      <td>7235 Tioga Street</td>\n      <td>Pittsburgh</td>\n      <td>40.453754</td>\n      <td>-79.896327</td>\n    </tr>\n    <tr>\n      <th>4</th>\n      <td>35247911</td>\n      <td>STO-ROX PLAZA</td>\n      <td>affordable_housing</td>\n      <td>2244.0</td>\n      <td>731 Chartiers Ave</td>\n      <td>Pittsburgh</td>\n      <td>40.441914</td>\n      <td>-80.038494</td>\n    </tr>\n    <tr>\n      <th>...</th>\n      <td>...</td>\n      <td>...</td>\n      <td>...</td>\n      <td>...</td>\n      <td>...</td>\n      <td>...</td>\n      <td>...</td>\n      <td>...</td>\n    </tr>\n    <tr>\n      <th>32933</th>\n      <td>35280840</td>\n      <td>UPMC Family Care Connection - Lawrenceville</td>\n      <td>food_banks</td>\n      <td>86141.0</td>\n      <td>5235 Butler Street</td>\n      <td>NaN</td>\n      <td>40.481165</td>\n      <td>-79.954010</td>\n    </tr>\n    <tr>\n      <th>32934</th>\n      <td>35280841</td>\n      <td>West Mifflin Food Bank @ Walnut Grove Christia...</td>\n      <td>food_banks</td>\n      <td>84639.0</td>\n      <td>44 Adams Road</td>\n      <td>West Mifflin</td>\n      <td>40.355117</td>\n      <td>-79.908657</td>\n    </tr>\n    <tr>\n      <th>32935</th>\n      <td>35280842</td>\n      <td>Welcome Little One</td>\n      <td>food_banks</td>\n      <td>86142.0</td>\n      <td>239 4th Ave STE 420</td>\n      <td>NaN</td>\n      <td>40.439559</td>\n      <td>-80.001769</td>\n    </tr>\n    <tr>\n      <th>32936</th>\n      <td>35280843</td>\n      <td>West Allegheny Food Pantry</td>\n      <td>food_banks</td>\n      <td>84657.0</td>\n      <td>105 Allegheny Road</td>\n      <td>Imperial</td>\n      <td>40.443835</td>\n      <td>-80.240623</td>\n    </tr>\n    <tr>\n      <th>32937</th>\n      <td>35280844</td>\n      <td>Urban League Greater Pittsburgh</td>\n      <td>food_banks</td>\n      <td>84638.0</td>\n      <td>101 Hazlett Street</td>\n      <td>Pittsburgh</td>\n      <td>40.477581</td>\n      <td>-80.002360</td>\n    </tr>\n  </tbody>\n</table>\n<p>32758 rows × 8 columns</p>\n</div>"
     },
     "execution_count": 325,
     "metadata": {},
     "output_type": "execute_result"
    }
   ],
   "source": [
    "assets"
   ],
   "metadata": {
    "collapsed": false,
    "ExecuteTime": {
     "end_time": "2024-04-14T17:45:40.568118Z",
     "start_time": "2024-04-14T17:45:40.553101Z"
    }
   },
   "id": "c33108e2204a9ff",
   "execution_count": 325
  },
  {
   "cell_type": "code",
   "outputs": [
    {
     "data": {
      "text/plain": "_id                  0\nname                 0\nasset_type           0\nlocation_id          0\nstreet_address    7643\ncity              7704\nlatitude             0\nlongitude            0\ndtype: int64"
     },
     "execution_count": 326,
     "metadata": {},
     "output_type": "execute_result"
    }
   ],
   "source": [
    "assets.isna().sum()"
   ],
   "metadata": {
    "collapsed": false,
    "ExecuteTime": {
     "end_time": "2024-04-14T17:45:40.783220Z",
     "start_time": "2024-04-14T17:45:40.772922Z"
    }
   },
   "id": "e6462079920b06db",
   "execution_count": 326
  },
  {
   "cell_type": "code",
   "outputs": [],
   "source": [
    "assets.to_csv(\"assets.csv\", index=False)  "
   ],
   "metadata": {
    "collapsed": false,
    "ExecuteTime": {
     "end_time": "2024-04-14T17:45:41.085217Z",
     "start_time": "2024-04-14T17:45:40.934921Z"
    }
   },
   "id": "86fba5aa851017c1",
   "execution_count": 327
  },
  {
   "cell_type": "code",
   "outputs": [
    {
     "data": {
      "text/plain": "                           name               street_address          city  \\\n0                 Kuhn's Market              661 Lincoln Ave    Pittsburgh   \n1                   Food Shoppe  5878 Northumberland  Street    Pittsburgh   \n2         Shop 'n Save / Shaler      1620 Babcock  Boulevard    Pittsburgh   \n3               Giant Eagle #61         2021 Wharton  Street    Pittsburgh   \n4                Safrans Market            429 Walnut Street     Sewickley   \n..                          ...                          ...           ...   \n128             Giant Eagle #35           1717 Cochran  Road    Pittsburgh   \n129                Shop 'n Save          4313 Walnut  Street   Mc Keesport   \n130       Shop 'n Save #0212100     4548 Broadway  Boulevard   Monroeville   \n131               Kuhn's Market                700 Beulah Rd  Turtle Creek   \n132  Whole Foods Wexford #10377         10576 Perry  Highway       Wexford   \n\n    state  zip_code   latitude  longitude localizability  \\\n0      PA     15202  40.497162 -80.060279          fixed   \n1      PA     15217  40.441561 -79.920536          fixed   \n2      PA     15209  40.499147 -79.978901          fixed   \n3      PA     15203  40.431132 -79.976607          fixed   \n4      PA     15143  40.541039 -80.182262          fixed   \n..    ...       ...        ...        ...            ...   \n128    PA     15220  40.392723 -80.064727          fixed   \n129    PA     15132  40.321934 -79.833693          fixed   \n130    PA     15146  40.389146 -79.767192          fixed   \n131    PA     15145        NaN        NaN          fixed   \n132    PA     15090  40.612261 -80.052911          fixed   \n\n                                      data_source_name  \\\n0    WPRDC Dataset: Allegheny County Restaurant/Foo...   \n1    WPRDC Dataset: Allegheny County Restaurant/Foo...   \n2    WPRDC Dataset: Allegheny County Restaurant/Foo...   \n3    WPRDC Dataset: Allegheny County Restaurant/Foo...   \n4    WPRDC Dataset: Allegheny County Restaurant/Foo...   \n..                                                 ...   \n128  WPRDC Dataset: Allegheny County Restaurant/Foo...   \n129  WPRDC Dataset: Allegheny County Restaurant/Foo...   \n130  WPRDC Dataset: Allegheny County Restaurant/Foo...   \n131  WPRDC Dataset: Allegheny County Restaurant/Foo...   \n132  WPRDC Dataset: Allegheny County Restaurant/Foo...   \n\n                                       data_source_url  \\\n0    https://data.wprdc.org/dataset/allegheny-count...   \n1    https://data.wprdc.org/dataset/allegheny-count...   \n2    https://data.wprdc.org/dataset/allegheny-count...   \n3    https://data.wprdc.org/dataset/allegheny-count...   \n4    https://data.wprdc.org/dataset/allegheny-count...   \n..                                                 ...   \n128  https://data.wprdc.org/dataset/allegheny-count...   \n129  https://data.wprdc.org/dataset/allegheny-count...   \n130  https://data.wprdc.org/dataset/allegheny-count...   \n131  https://data.wprdc.org/dataset/allegheny-count...   \n132  https://data.wprdc.org/dataset/allegheny-count...   \n\n     primary_key_from_rocket    asset_type  \n0                      36519  supermarkets  \n1                      36498  supermarkets  \n2                      32725  supermarkets  \n3                      38879  supermarkets  \n4                      30265  supermarkets  \n..                       ...           ...  \n128                    39025  supermarkets  \n129             200609250001  supermarkets  \n130             200209130006  supermarkets  \n131             200808180002  supermarkets  \n132             201203290001  supermarkets  \n\n[133 rows x 12 columns]",
      "text/html": "<div>\n<style scoped>\n    .dataframe tbody tr th:only-of-type {\n        vertical-align: middle;\n    }\n\n    .dataframe tbody tr th {\n        vertical-align: top;\n    }\n\n    .dataframe thead th {\n        text-align: right;\n    }\n</style>\n<table border=\"1\" class=\"dataframe\">\n  <thead>\n    <tr style=\"text-align: right;\">\n      <th></th>\n      <th>name</th>\n      <th>street_address</th>\n      <th>city</th>\n      <th>state</th>\n      <th>zip_code</th>\n      <th>latitude</th>\n      <th>longitude</th>\n      <th>localizability</th>\n      <th>data_source_name</th>\n      <th>data_source_url</th>\n      <th>primary_key_from_rocket</th>\n      <th>asset_type</th>\n    </tr>\n  </thead>\n  <tbody>\n    <tr>\n      <th>0</th>\n      <td>Kuhn's Market</td>\n      <td>661 Lincoln Ave</td>\n      <td>Pittsburgh</td>\n      <td>PA</td>\n      <td>15202</td>\n      <td>40.497162</td>\n      <td>-80.060279</td>\n      <td>fixed</td>\n      <td>WPRDC Dataset: Allegheny County Restaurant/Foo...</td>\n      <td>https://data.wprdc.org/dataset/allegheny-count...</td>\n      <td>36519</td>\n      <td>supermarkets</td>\n    </tr>\n    <tr>\n      <th>1</th>\n      <td>Food Shoppe</td>\n      <td>5878 Northumberland  Street</td>\n      <td>Pittsburgh</td>\n      <td>PA</td>\n      <td>15217</td>\n      <td>40.441561</td>\n      <td>-79.920536</td>\n      <td>fixed</td>\n      <td>WPRDC Dataset: Allegheny County Restaurant/Foo...</td>\n      <td>https://data.wprdc.org/dataset/allegheny-count...</td>\n      <td>36498</td>\n      <td>supermarkets</td>\n    </tr>\n    <tr>\n      <th>2</th>\n      <td>Shop 'n Save / Shaler</td>\n      <td>1620 Babcock  Boulevard</td>\n      <td>Pittsburgh</td>\n      <td>PA</td>\n      <td>15209</td>\n      <td>40.499147</td>\n      <td>-79.978901</td>\n      <td>fixed</td>\n      <td>WPRDC Dataset: Allegheny County Restaurant/Foo...</td>\n      <td>https://data.wprdc.org/dataset/allegheny-count...</td>\n      <td>32725</td>\n      <td>supermarkets</td>\n    </tr>\n    <tr>\n      <th>3</th>\n      <td>Giant Eagle #61</td>\n      <td>2021 Wharton  Street</td>\n      <td>Pittsburgh</td>\n      <td>PA</td>\n      <td>15203</td>\n      <td>40.431132</td>\n      <td>-79.976607</td>\n      <td>fixed</td>\n      <td>WPRDC Dataset: Allegheny County Restaurant/Foo...</td>\n      <td>https://data.wprdc.org/dataset/allegheny-count...</td>\n      <td>38879</td>\n      <td>supermarkets</td>\n    </tr>\n    <tr>\n      <th>4</th>\n      <td>Safrans Market</td>\n      <td>429 Walnut Street</td>\n      <td>Sewickley</td>\n      <td>PA</td>\n      <td>15143</td>\n      <td>40.541039</td>\n      <td>-80.182262</td>\n      <td>fixed</td>\n      <td>WPRDC Dataset: Allegheny County Restaurant/Foo...</td>\n      <td>https://data.wprdc.org/dataset/allegheny-count...</td>\n      <td>30265</td>\n      <td>supermarkets</td>\n    </tr>\n    <tr>\n      <th>...</th>\n      <td>...</td>\n      <td>...</td>\n      <td>...</td>\n      <td>...</td>\n      <td>...</td>\n      <td>...</td>\n      <td>...</td>\n      <td>...</td>\n      <td>...</td>\n      <td>...</td>\n      <td>...</td>\n      <td>...</td>\n    </tr>\n    <tr>\n      <th>128</th>\n      <td>Giant Eagle #35</td>\n      <td>1717 Cochran  Road</td>\n      <td>Pittsburgh</td>\n      <td>PA</td>\n      <td>15220</td>\n      <td>40.392723</td>\n      <td>-80.064727</td>\n      <td>fixed</td>\n      <td>WPRDC Dataset: Allegheny County Restaurant/Foo...</td>\n      <td>https://data.wprdc.org/dataset/allegheny-count...</td>\n      <td>39025</td>\n      <td>supermarkets</td>\n    </tr>\n    <tr>\n      <th>129</th>\n      <td>Shop 'n Save</td>\n      <td>4313 Walnut  Street</td>\n      <td>Mc Keesport</td>\n      <td>PA</td>\n      <td>15132</td>\n      <td>40.321934</td>\n      <td>-79.833693</td>\n      <td>fixed</td>\n      <td>WPRDC Dataset: Allegheny County Restaurant/Foo...</td>\n      <td>https://data.wprdc.org/dataset/allegheny-count...</td>\n      <td>200609250001</td>\n      <td>supermarkets</td>\n    </tr>\n    <tr>\n      <th>130</th>\n      <td>Shop 'n Save #0212100</td>\n      <td>4548 Broadway  Boulevard</td>\n      <td>Monroeville</td>\n      <td>PA</td>\n      <td>15146</td>\n      <td>40.389146</td>\n      <td>-79.767192</td>\n      <td>fixed</td>\n      <td>WPRDC Dataset: Allegheny County Restaurant/Foo...</td>\n      <td>https://data.wprdc.org/dataset/allegheny-count...</td>\n      <td>200209130006</td>\n      <td>supermarkets</td>\n    </tr>\n    <tr>\n      <th>131</th>\n      <td>Kuhn's Market</td>\n      <td>700 Beulah Rd</td>\n      <td>Turtle Creek</td>\n      <td>PA</td>\n      <td>15145</td>\n      <td>NaN</td>\n      <td>NaN</td>\n      <td>fixed</td>\n      <td>WPRDC Dataset: Allegheny County Restaurant/Foo...</td>\n      <td>https://data.wprdc.org/dataset/allegheny-count...</td>\n      <td>200808180002</td>\n      <td>supermarkets</td>\n    </tr>\n    <tr>\n      <th>132</th>\n      <td>Whole Foods Wexford #10377</td>\n      <td>10576 Perry  Highway</td>\n      <td>Wexford</td>\n      <td>PA</td>\n      <td>15090</td>\n      <td>40.612261</td>\n      <td>-80.052911</td>\n      <td>fixed</td>\n      <td>WPRDC Dataset: Allegheny County Restaurant/Foo...</td>\n      <td>https://data.wprdc.org/dataset/allegheny-count...</td>\n      <td>201203290001</td>\n      <td>supermarkets</td>\n    </tr>\n  </tbody>\n</table>\n<p>133 rows × 12 columns</p>\n</div>"
     },
     "execution_count": 328,
     "metadata": {},
     "output_type": "execute_result"
    }
   ],
   "source": [
    "supermarkets"
   ],
   "metadata": {
    "collapsed": false,
    "ExecuteTime": {
     "end_time": "2024-04-14T17:45:41.152350Z",
     "start_time": "2024-04-14T17:45:41.137049Z"
    }
   },
   "id": "d859648dec10e308",
   "execution_count": 328
  },
  {
   "cell_type": "code",
   "outputs": [
    {
     "data": {
      "text/plain": "name                        0\nstreet_address              0\ncity                        0\nstate                       0\nzip_code                    0\nlatitude                   18\nlongitude                  18\nlocalizability              0\ndata_source_name            0\ndata_source_url             0\nprimary_key_from_rocket     0\nasset_type                  0\ndtype: int64"
     },
     "execution_count": 329,
     "metadata": {},
     "output_type": "execute_result"
    }
   ],
   "source": [
    "supermarkets.isna().sum()"
   ],
   "metadata": {
    "collapsed": false,
    "ExecuteTime": {
     "end_time": "2024-04-14T17:45:41.486500Z",
     "start_time": "2024-04-14T17:45:41.475507Z"
    }
   },
   "id": "edceb93319dc84d4",
   "execution_count": 329
  },
  {
   "cell_type": "code",
   "outputs": [],
   "source": [
    "supermarkets = supermarkets[supermarkets[\"latitude\"].notna()]\n",
    "supermarkets = supermarkets[supermarkets[\"longitude\"].notna()]"
   ],
   "metadata": {
    "collapsed": false,
    "ExecuteTime": {
     "end_time": "2024-04-14T17:45:42.047710Z",
     "start_time": "2024-04-14T17:45:42.040005Z"
    }
   },
   "id": "604c2a8cc52e437f",
   "execution_count": 330
  },
  {
   "cell_type": "code",
   "outputs": [],
   "source": [
    "supermarkets.drop([\"localizability\", \"data_source_name\", \"data_source_url\"], axis = 1, inplace = True)"
   ],
   "metadata": {
    "collapsed": false,
    "ExecuteTime": {
     "end_time": "2024-04-14T17:45:49.327106Z",
     "start_time": "2024-04-14T17:45:49.317261Z"
    }
   },
   "id": "36109ec2d81875b8",
   "execution_count": 332
  },
  {
   "cell_type": "code",
   "outputs": [],
   "source": [
    "supermarkets.to_csv(\"supermarkets.csv\", index=False)  "
   ],
   "metadata": {
    "collapsed": false,
    "ExecuteTime": {
     "end_time": "2024-04-14T17:46:14.916864Z",
     "start_time": "2024-04-14T17:46:14.908800Z"
    }
   },
   "id": "420d7d9cb50d6de",
   "execution_count": 333
  },
  {
   "cell_type": "code",
   "outputs": [
    {
     "data": {
      "text/plain": "    _id  Id                                      Name  Total Docks   Latitude  \\\n0     1   1                  Pierce St & Summerlea St           19  40.456507   \n1     2   2       Eliza Furnace Trail & Swineburne St           15  40.425800   \n2     3   3                   Centre Ave & Addison St           15  40.444600   \n3     4   4         Burns White Center at 3 Crossings           15  40.456400   \n4     5   5                         Allegheny Station           19  40.448301   \n5     6   6                        10th St & Penn Ave           15  40.444653   \n6     7   7                    Liberty Ave & Gross St           15  40.459588   \n7     8   8                                Glasshouse           15  40.432900   \n8     9   9               South Side Trail & S 4th St           15  40.431336   \n9    10  10                   Zulema St & Coltart Ave           19  40.436055   \n10   11  11              Ellsworth Ave & N Neville St           15  40.448203   \n11   12  12            O'Hara St and University Place           23  40.445117   \n12   13  13                S Bouquet Ave & Sennott St           23  40.441638   \n13   14  14                 Tioga St & N Homewood Ave           15  40.454226   \n14   15  15                        Ivy St & Walnut St           15  40.451781   \n15   16  16      Penn Ave & Putnam St (Bakery Square)           18  40.455900   \n16   17  17                   Taylor St & Liberty Ave           15  40.462778   \n17   18  18                        21st St & Penn Ave           19  40.451800   \n18   19  19                       42nd St & Butler St           15  40.470221   \n19   20  20    Boulevard of the Allies & Parkview Ave           19  40.434400   \n20   21  21                  Liberty Ave & Stanwix St           15  40.441200   \n21   22  22                Forbes Ave & Market Square           19  40.440773   \n22   23  23  North Shore Trail & Fort Duquesne Bridge           23  40.445800   \n23   24  24                        Penn Ave & 33rd St           11  40.462000   \n24   25  25                 Penn Ave & S Whitfield St           15  40.461600   \n25   26  26  S 27th St & Sidney St. (Southside Works)           23  40.427991   \n26   27  27      W Station Square Dr & Bessemer Court           15  40.433800   \n27   28  28                  Fifth Ave & S Bouquet St           22  40.442200   \n28   29  29                  Forbes Ave & Schenley Dr           27  40.443300   \n29   30  30                 Shady Ave & Ellsworth Ave           15  40.459181   \n30   31  31                          First Ave & B St           15  40.435922   \n31   32  32                      Ross St & Fourth Ave           15  40.437701   \n32   33  33             Schenley Dr & Schenley Dr Ext           19  40.442371   \n33   34  34               N Dithridge St & Centre Ave           19  40.451281   \n34   35  35                       Butler St & 36th St           15  40.465264   \n35   36  36                  Penn Ave & S Pacific Ave           15  40.464600   \n36   37  37                 S Negley Ave & Centre Ave           15  40.457316   \n37   38  38                Allequippa St & Darragh St           23  40.443591   \n38   39  39                   S 12th St & E Carson St           19  40.428600   \n39   40  40                         7th St & Penn Ave           19  40.443419   \n40   41  41                     S 22nd St & Sidney St           19  40.429212   \n41   42  42                  Second Ave & Tecumseh St           19  40.408857   \n42   43  43                       Eliza St & Lytle St           19  40.413481   \n43   44  44                  Hamilton Ave & Fifth Ave           15  40.457570   \n44   45  45             N Braddock Ave & Hamilton Ave           15  40.453010   \n45   46  46           N Braddock Ave & Frankstown Ave           15  40.456060   \n46   47  47                        17th St & Penn Ave           19  40.449626   \n47   48  48               S Millvale Ave & Centre Ave           19  40.453427   \n48   49  49                  Technology Dr & Bates St           19  40.430513   \n49   50  50                      Atwood St & Bates St           19  40.437987   \n50   51  51                  Coltart Ave & Forbes Ave           18  40.439012   \n51   52  52                   Bedford Ave & Memory Ln           19  40.448361   \n52   53  53                   Centre Ave & Heldman St           19  40.442841   \n53   54  54                   W Ohio St & Brighton Rd           19  40.452467   \n54   55  55            Brighton Rd & Pennsylvania Ave           19  40.456402   \n55   56  56                  Rosetta St & N Aiken Ave           15  40.467018   \n56   57  57                       52nd St & Butler St           19  40.480283   \n57   58  58                  W North Ave & Federal St           19  40.455268   \n58   59  59       Forbes Ave at TCS Hall (CMU Campus)           19  40.444654   \n59   60  60                   Wilkinsburg Park & Ride           19  40.446908   \n\n    Longitude  \n0  -79.932331  \n1  -79.953400  \n2  -79.978300  \n3  -79.980000  \n4  -80.018007  \n5  -79.996074  \n6  -79.945204  \n7  -80.003000  \n8  -79.995106  \n9  -79.956827  \n10 -79.947507  \n11 -79.957118  \n12 -79.955764  \n13 -79.897544  \n14 -79.932253  \n15 -79.915300  \n16 -79.950868  \n17 -79.983300  \n18 -79.960380  \n19 -79.951900  \n20 -80.004800  \n21 -80.003312  \n22 -80.009100  \n23 -79.968300  \n24 -79.925700  \n25 -79.966296  \n26 -80.004700  \n27 -79.957600  \n28 -79.952800  \n29 -79.921996  \n30 -79.997551  \n31 -79.996481  \n32 -79.951688  \n33 -79.952982  \n34 -79.965652  \n35 -79.939900  \n36 -79.934331  \n37 -79.965456  \n38 -79.986371  \n39 -80.000311  \n40 -79.974535  \n41 -79.943684  \n42 -79.948254  \n43 -79.909952  \n44 -79.891204  \n45 -79.889954  \n46 -79.985918  \n47 -79.947460  \n48 -79.959989  \n49 -79.953705  \n50 -79.960292  \n51 -79.978268  \n52 -79.981616  \n53 -80.013872  \n54 -80.015393  \n55 -79.935232  \n56 -79.954287  \n57 -80.007123  \n58 -79.947535  \n59 -79.888645  ",
      "text/html": "<div>\n<style scoped>\n    .dataframe tbody tr th:only-of-type {\n        vertical-align: middle;\n    }\n\n    .dataframe tbody tr th {\n        vertical-align: top;\n    }\n\n    .dataframe thead th {\n        text-align: right;\n    }\n</style>\n<table border=\"1\" class=\"dataframe\">\n  <thead>\n    <tr style=\"text-align: right;\">\n      <th></th>\n      <th>_id</th>\n      <th>Id</th>\n      <th>Name</th>\n      <th>Total Docks</th>\n      <th>Latitude</th>\n      <th>Longitude</th>\n    </tr>\n  </thead>\n  <tbody>\n    <tr>\n      <th>0</th>\n      <td>1</td>\n      <td>1</td>\n      <td>Pierce St &amp; Summerlea St</td>\n      <td>19</td>\n      <td>40.456507</td>\n      <td>-79.932331</td>\n    </tr>\n    <tr>\n      <th>1</th>\n      <td>2</td>\n      <td>2</td>\n      <td>Eliza Furnace Trail &amp; Swineburne St</td>\n      <td>15</td>\n      <td>40.425800</td>\n      <td>-79.953400</td>\n    </tr>\n    <tr>\n      <th>2</th>\n      <td>3</td>\n      <td>3</td>\n      <td>Centre Ave &amp; Addison St</td>\n      <td>15</td>\n      <td>40.444600</td>\n      <td>-79.978300</td>\n    </tr>\n    <tr>\n      <th>3</th>\n      <td>4</td>\n      <td>4</td>\n      <td>Burns White Center at 3 Crossings</td>\n      <td>15</td>\n      <td>40.456400</td>\n      <td>-79.980000</td>\n    </tr>\n    <tr>\n      <th>4</th>\n      <td>5</td>\n      <td>5</td>\n      <td>Allegheny Station</td>\n      <td>19</td>\n      <td>40.448301</td>\n      <td>-80.018007</td>\n    </tr>\n    <tr>\n      <th>5</th>\n      <td>6</td>\n      <td>6</td>\n      <td>10th St &amp; Penn Ave</td>\n      <td>15</td>\n      <td>40.444653</td>\n      <td>-79.996074</td>\n    </tr>\n    <tr>\n      <th>6</th>\n      <td>7</td>\n      <td>7</td>\n      <td>Liberty Ave &amp; Gross St</td>\n      <td>15</td>\n      <td>40.459588</td>\n      <td>-79.945204</td>\n    </tr>\n    <tr>\n      <th>7</th>\n      <td>8</td>\n      <td>8</td>\n      <td>Glasshouse</td>\n      <td>15</td>\n      <td>40.432900</td>\n      <td>-80.003000</td>\n    </tr>\n    <tr>\n      <th>8</th>\n      <td>9</td>\n      <td>9</td>\n      <td>South Side Trail &amp; S 4th St</td>\n      <td>15</td>\n      <td>40.431336</td>\n      <td>-79.995106</td>\n    </tr>\n    <tr>\n      <th>9</th>\n      <td>10</td>\n      <td>10</td>\n      <td>Zulema St &amp; Coltart Ave</td>\n      <td>19</td>\n      <td>40.436055</td>\n      <td>-79.956827</td>\n    </tr>\n    <tr>\n      <th>10</th>\n      <td>11</td>\n      <td>11</td>\n      <td>Ellsworth Ave &amp; N Neville St</td>\n      <td>15</td>\n      <td>40.448203</td>\n      <td>-79.947507</td>\n    </tr>\n    <tr>\n      <th>11</th>\n      <td>12</td>\n      <td>12</td>\n      <td>O'Hara St and University Place</td>\n      <td>23</td>\n      <td>40.445117</td>\n      <td>-79.957118</td>\n    </tr>\n    <tr>\n      <th>12</th>\n      <td>13</td>\n      <td>13</td>\n      <td>S Bouquet Ave &amp; Sennott St</td>\n      <td>23</td>\n      <td>40.441638</td>\n      <td>-79.955764</td>\n    </tr>\n    <tr>\n      <th>13</th>\n      <td>14</td>\n      <td>14</td>\n      <td>Tioga St &amp; N Homewood Ave</td>\n      <td>15</td>\n      <td>40.454226</td>\n      <td>-79.897544</td>\n    </tr>\n    <tr>\n      <th>14</th>\n      <td>15</td>\n      <td>15</td>\n      <td>Ivy St &amp; Walnut St</td>\n      <td>15</td>\n      <td>40.451781</td>\n      <td>-79.932253</td>\n    </tr>\n    <tr>\n      <th>15</th>\n      <td>16</td>\n      <td>16</td>\n      <td>Penn Ave &amp; Putnam St (Bakery Square)</td>\n      <td>18</td>\n      <td>40.455900</td>\n      <td>-79.915300</td>\n    </tr>\n    <tr>\n      <th>16</th>\n      <td>17</td>\n      <td>17</td>\n      <td>Taylor St &amp; Liberty Ave</td>\n      <td>15</td>\n      <td>40.462778</td>\n      <td>-79.950868</td>\n    </tr>\n    <tr>\n      <th>17</th>\n      <td>18</td>\n      <td>18</td>\n      <td>21st St &amp; Penn Ave</td>\n      <td>19</td>\n      <td>40.451800</td>\n      <td>-79.983300</td>\n    </tr>\n    <tr>\n      <th>18</th>\n      <td>19</td>\n      <td>19</td>\n      <td>42nd St &amp; Butler St</td>\n      <td>15</td>\n      <td>40.470221</td>\n      <td>-79.960380</td>\n    </tr>\n    <tr>\n      <th>19</th>\n      <td>20</td>\n      <td>20</td>\n      <td>Boulevard of the Allies &amp; Parkview Ave</td>\n      <td>19</td>\n      <td>40.434400</td>\n      <td>-79.951900</td>\n    </tr>\n    <tr>\n      <th>20</th>\n      <td>21</td>\n      <td>21</td>\n      <td>Liberty Ave &amp; Stanwix St</td>\n      <td>15</td>\n      <td>40.441200</td>\n      <td>-80.004800</td>\n    </tr>\n    <tr>\n      <th>21</th>\n      <td>22</td>\n      <td>22</td>\n      <td>Forbes Ave &amp; Market Square</td>\n      <td>19</td>\n      <td>40.440773</td>\n      <td>-80.003312</td>\n    </tr>\n    <tr>\n      <th>22</th>\n      <td>23</td>\n      <td>23</td>\n      <td>North Shore Trail &amp; Fort Duquesne Bridge</td>\n      <td>23</td>\n      <td>40.445800</td>\n      <td>-80.009100</td>\n    </tr>\n    <tr>\n      <th>23</th>\n      <td>24</td>\n      <td>24</td>\n      <td>Penn Ave &amp; 33rd St</td>\n      <td>11</td>\n      <td>40.462000</td>\n      <td>-79.968300</td>\n    </tr>\n    <tr>\n      <th>24</th>\n      <td>25</td>\n      <td>25</td>\n      <td>Penn Ave &amp; S Whitfield St</td>\n      <td>15</td>\n      <td>40.461600</td>\n      <td>-79.925700</td>\n    </tr>\n    <tr>\n      <th>25</th>\n      <td>26</td>\n      <td>26</td>\n      <td>S 27th St &amp; Sidney St. (Southside Works)</td>\n      <td>23</td>\n      <td>40.427991</td>\n      <td>-79.966296</td>\n    </tr>\n    <tr>\n      <th>26</th>\n      <td>27</td>\n      <td>27</td>\n      <td>W Station Square Dr &amp; Bessemer Court</td>\n      <td>15</td>\n      <td>40.433800</td>\n      <td>-80.004700</td>\n    </tr>\n    <tr>\n      <th>27</th>\n      <td>28</td>\n      <td>28</td>\n      <td>Fifth Ave &amp; S Bouquet St</td>\n      <td>22</td>\n      <td>40.442200</td>\n      <td>-79.957600</td>\n    </tr>\n    <tr>\n      <th>28</th>\n      <td>29</td>\n      <td>29</td>\n      <td>Forbes Ave &amp; Schenley Dr</td>\n      <td>27</td>\n      <td>40.443300</td>\n      <td>-79.952800</td>\n    </tr>\n    <tr>\n      <th>29</th>\n      <td>30</td>\n      <td>30</td>\n      <td>Shady Ave &amp; Ellsworth Ave</td>\n      <td>15</td>\n      <td>40.459181</td>\n      <td>-79.921996</td>\n    </tr>\n    <tr>\n      <th>30</th>\n      <td>31</td>\n      <td>31</td>\n      <td>First Ave &amp; B St</td>\n      <td>15</td>\n      <td>40.435922</td>\n      <td>-79.997551</td>\n    </tr>\n    <tr>\n      <th>31</th>\n      <td>32</td>\n      <td>32</td>\n      <td>Ross St &amp; Fourth Ave</td>\n      <td>15</td>\n      <td>40.437701</td>\n      <td>-79.996481</td>\n    </tr>\n    <tr>\n      <th>32</th>\n      <td>33</td>\n      <td>33</td>\n      <td>Schenley Dr &amp; Schenley Dr Ext</td>\n      <td>19</td>\n      <td>40.442371</td>\n      <td>-79.951688</td>\n    </tr>\n    <tr>\n      <th>33</th>\n      <td>34</td>\n      <td>34</td>\n      <td>N Dithridge St &amp; Centre Ave</td>\n      <td>19</td>\n      <td>40.451281</td>\n      <td>-79.952982</td>\n    </tr>\n    <tr>\n      <th>34</th>\n      <td>35</td>\n      <td>35</td>\n      <td>Butler St &amp; 36th St</td>\n      <td>15</td>\n      <td>40.465264</td>\n      <td>-79.965652</td>\n    </tr>\n    <tr>\n      <th>35</th>\n      <td>36</td>\n      <td>36</td>\n      <td>Penn Ave &amp; S Pacific Ave</td>\n      <td>15</td>\n      <td>40.464600</td>\n      <td>-79.939900</td>\n    </tr>\n    <tr>\n      <th>36</th>\n      <td>37</td>\n      <td>37</td>\n      <td>S Negley Ave &amp; Centre Ave</td>\n      <td>15</td>\n      <td>40.457316</td>\n      <td>-79.934331</td>\n    </tr>\n    <tr>\n      <th>37</th>\n      <td>38</td>\n      <td>38</td>\n      <td>Allequippa St &amp; Darragh St</td>\n      <td>23</td>\n      <td>40.443591</td>\n      <td>-79.965456</td>\n    </tr>\n    <tr>\n      <th>38</th>\n      <td>39</td>\n      <td>39</td>\n      <td>S 12th St &amp; E Carson St</td>\n      <td>19</td>\n      <td>40.428600</td>\n      <td>-79.986371</td>\n    </tr>\n    <tr>\n      <th>39</th>\n      <td>40</td>\n      <td>40</td>\n      <td>7th St &amp; Penn Ave</td>\n      <td>19</td>\n      <td>40.443419</td>\n      <td>-80.000311</td>\n    </tr>\n    <tr>\n      <th>40</th>\n      <td>41</td>\n      <td>41</td>\n      <td>S 22nd St &amp; Sidney St</td>\n      <td>19</td>\n      <td>40.429212</td>\n      <td>-79.974535</td>\n    </tr>\n    <tr>\n      <th>41</th>\n      <td>42</td>\n      <td>42</td>\n      <td>Second Ave &amp; Tecumseh St</td>\n      <td>19</td>\n      <td>40.408857</td>\n      <td>-79.943684</td>\n    </tr>\n    <tr>\n      <th>42</th>\n      <td>43</td>\n      <td>43</td>\n      <td>Eliza St &amp; Lytle St</td>\n      <td>19</td>\n      <td>40.413481</td>\n      <td>-79.948254</td>\n    </tr>\n    <tr>\n      <th>43</th>\n      <td>44</td>\n      <td>44</td>\n      <td>Hamilton Ave &amp; Fifth Ave</td>\n      <td>15</td>\n      <td>40.457570</td>\n      <td>-79.909952</td>\n    </tr>\n    <tr>\n      <th>44</th>\n      <td>45</td>\n      <td>45</td>\n      <td>N Braddock Ave &amp; Hamilton Ave</td>\n      <td>15</td>\n      <td>40.453010</td>\n      <td>-79.891204</td>\n    </tr>\n    <tr>\n      <th>45</th>\n      <td>46</td>\n      <td>46</td>\n      <td>N Braddock Ave &amp; Frankstown Ave</td>\n      <td>15</td>\n      <td>40.456060</td>\n      <td>-79.889954</td>\n    </tr>\n    <tr>\n      <th>46</th>\n      <td>47</td>\n      <td>47</td>\n      <td>17th St &amp; Penn Ave</td>\n      <td>19</td>\n      <td>40.449626</td>\n      <td>-79.985918</td>\n    </tr>\n    <tr>\n      <th>47</th>\n      <td>48</td>\n      <td>48</td>\n      <td>S Millvale Ave &amp; Centre Ave</td>\n      <td>19</td>\n      <td>40.453427</td>\n      <td>-79.947460</td>\n    </tr>\n    <tr>\n      <th>48</th>\n      <td>49</td>\n      <td>49</td>\n      <td>Technology Dr &amp; Bates St</td>\n      <td>19</td>\n      <td>40.430513</td>\n      <td>-79.959989</td>\n    </tr>\n    <tr>\n      <th>49</th>\n      <td>50</td>\n      <td>50</td>\n      <td>Atwood St &amp; Bates St</td>\n      <td>19</td>\n      <td>40.437987</td>\n      <td>-79.953705</td>\n    </tr>\n    <tr>\n      <th>50</th>\n      <td>51</td>\n      <td>51</td>\n      <td>Coltart Ave &amp; Forbes Ave</td>\n      <td>18</td>\n      <td>40.439012</td>\n      <td>-79.960292</td>\n    </tr>\n    <tr>\n      <th>51</th>\n      <td>52</td>\n      <td>52</td>\n      <td>Bedford Ave &amp; Memory Ln</td>\n      <td>19</td>\n      <td>40.448361</td>\n      <td>-79.978268</td>\n    </tr>\n    <tr>\n      <th>52</th>\n      <td>53</td>\n      <td>53</td>\n      <td>Centre Ave &amp; Heldman St</td>\n      <td>19</td>\n      <td>40.442841</td>\n      <td>-79.981616</td>\n    </tr>\n    <tr>\n      <th>53</th>\n      <td>54</td>\n      <td>54</td>\n      <td>W Ohio St &amp; Brighton Rd</td>\n      <td>19</td>\n      <td>40.452467</td>\n      <td>-80.013872</td>\n    </tr>\n    <tr>\n      <th>54</th>\n      <td>55</td>\n      <td>55</td>\n      <td>Brighton Rd &amp; Pennsylvania Ave</td>\n      <td>19</td>\n      <td>40.456402</td>\n      <td>-80.015393</td>\n    </tr>\n    <tr>\n      <th>55</th>\n      <td>56</td>\n      <td>56</td>\n      <td>Rosetta St &amp; N Aiken Ave</td>\n      <td>15</td>\n      <td>40.467018</td>\n      <td>-79.935232</td>\n    </tr>\n    <tr>\n      <th>56</th>\n      <td>57</td>\n      <td>57</td>\n      <td>52nd St &amp; Butler St</td>\n      <td>19</td>\n      <td>40.480283</td>\n      <td>-79.954287</td>\n    </tr>\n    <tr>\n      <th>57</th>\n      <td>58</td>\n      <td>58</td>\n      <td>W North Ave &amp; Federal St</td>\n      <td>19</td>\n      <td>40.455268</td>\n      <td>-80.007123</td>\n    </tr>\n    <tr>\n      <th>58</th>\n      <td>59</td>\n      <td>59</td>\n      <td>Forbes Ave at TCS Hall (CMU Campus)</td>\n      <td>19</td>\n      <td>40.444654</td>\n      <td>-79.947535</td>\n    </tr>\n    <tr>\n      <th>59</th>\n      <td>60</td>\n      <td>60</td>\n      <td>Wilkinsburg Park &amp; Ride</td>\n      <td>19</td>\n      <td>40.446908</td>\n      <td>-79.888645</td>\n    </tr>\n  </tbody>\n</table>\n</div>"
     },
     "execution_count": 334,
     "metadata": {},
     "output_type": "execute_result"
    }
   ],
   "source": [
    "terminals"
   ],
   "metadata": {
    "collapsed": false,
    "ExecuteTime": {
     "end_time": "2024-04-14T17:46:28.468944Z",
     "start_time": "2024-04-14T17:46:28.454578Z"
    }
   },
   "id": "3bc782594d4ea0b9",
   "execution_count": 334
  },
  {
   "cell_type": "code",
   "outputs": [
    {
     "data": {
      "text/plain": "_id            0\nId             0\nName           0\nTotal Docks    0\nLatitude       0\nLongitude      0\ndtype: int64"
     },
     "execution_count": 335,
     "metadata": {},
     "output_type": "execute_result"
    }
   ],
   "source": [
    "terminals.isna().sum()"
   ],
   "metadata": {
    "collapsed": false,
    "ExecuteTime": {
     "end_time": "2024-04-14T17:46:45.778191Z",
     "start_time": "2024-04-14T17:46:45.770216Z"
    }
   },
   "id": "4ab59d2c4abff371",
   "execution_count": 335
  },
  {
   "cell_type": "code",
   "outputs": [],
   "source": [],
   "metadata": {
    "collapsed": false
   },
   "id": "5269629b49d65bf8"
  }
 ],
 "metadata": {
  "kernelspec": {
   "display_name": "Python 3",
   "language": "python",
   "name": "python3"
  },
  "language_info": {
   "codemirror_mode": {
    "name": "ipython",
    "version": 2
   },
   "file_extension": ".py",
   "mimetype": "text/x-python",
   "name": "python",
   "nbconvert_exporter": "python",
   "pygments_lexer": "ipython2",
   "version": "2.7.6"
  }
 },
 "nbformat": 4,
 "nbformat_minor": 5
}
